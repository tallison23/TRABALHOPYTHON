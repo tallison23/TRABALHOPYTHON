import statistics 
z = [20,30,40,50]
x = statistics.mean(z)
y = statistics.median(z)
print(x)
print(y)
import statistics  as est
z = [20,30,40,50]
x = est.mean(z)
y = est.median(z)
print(x)
print(y)
from statistics import mean, median
z = [20,30,40,50]
x = mean(z)
y = median(z)
print(x)
print(y)
from statistics import *
z = [20,30,40,50]
x = mean(z)
y = median(z)
print(x)
print(y)
