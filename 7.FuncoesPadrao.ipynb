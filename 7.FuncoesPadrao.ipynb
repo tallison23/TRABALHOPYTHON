#funções internas
print(abs(-100))
lst = [1,2,30,30,45]
print("Maior valor: ", max(lst))
print("Menor valor: ", min(lst))
print("Soma: ", sum(lst))
print("Arredondamento: ", round(3.35557,3))
#statistica
from statistics import *
print("Média: ", mean(lst))
print("Mediana: ", median(lst))
print("Moda: ", mode(lst))
#desvio padrão da amostra
print("Desvio padrão: ", stdev(lst))
#variancia da amostra
print("Variância: ", variance(lst))
from numpy import *
a = random.random((9,9))
print(type(a))
print(a)
