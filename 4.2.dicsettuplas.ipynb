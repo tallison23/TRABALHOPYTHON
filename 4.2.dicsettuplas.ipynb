#dicionários: estrutura chave/valor
Notas = {'caio': 6.0, 'paulo': 8.0, 'brasil': 6.5}
print(Notas)
{'caio': 6.0, 'paulo': 8.0, 'brasil': 6.5}
print(Notas['caio'])
6.0
#Todasd as chaves
Notas.keys()
dict_keys(['caio', 'paulo', 'brasil'])
#todos os valores
Notas.values()
dict_values([6.0, 8.0, 6.5])
#Testa logicamente a existência
print('caio' in Notas)
print('tallison' in Notas)
True
False
#apaga um elemento
del Notas['caio']
print(Notas)
{'Maria': 8.0, 'Pedro': 6.5}
#inclui um elemento
Notas['Ana'] = 9
print(Notas)
{'Maria': 8.0, 'Pedro': 6.5, 'Ana': 9}
#busca um valor, se não encontrar mostra segundo parametro
Notas.get('Geraldo',"Não encontrado!")
'Não encontrado!'
#sets são conjuntos não ordenados de elementos não repetidos
bigdata = {'Spark', 'Hive', "Sqoop"}
print(bigdata)
{'Spark', 'Hive', 'Sqoop'}
#verifica existência
print('Spark' in bigdata)
True
#adiciona elemento
bigdata.add('Hadoop')
bigdata
{'Hadoop', 'Hive', 'Spark', 'Sqoop'}
#número de elementos
print(len(bigdata))
4
bigdata.add("Spark")
bigdata
{'Hadoop', 'Hive', 'Spark', 'Sqoop'}
#tuplas são listas que não podem ser alteradas
#listas usam [], tuplas usam ()
tupla = (1,2,3,4,5,6,7)
tupla
(1, 2, 3, 4, 5, 6, 7)
tupla[4]
5
#dicionários em que cada posição recebe uma tupla
dic2 = {(0, 1): 0, (1, 2): 1, (2, 3): 2, (3, 4): 3, (4, 5): 4,(5, 6): 5, (6, 7): 6, (7, 8): 7, (8, 9): 8, (9, 10): 9}
dic2
{(0, 1): 0,
 (1, 2): 1,
 (2, 3): 2,
 (3, 4): 3,
 (4, 5): 4,
 (5, 6): 5,
 (6, 7): 6,
 (7, 8): 7,
 (8, 9): 8,
 (9, 10): 9}
print(type(Notas))
print(type(bigdata))
print(type(tupla))
<class 'dict'>
<class 'set'>
<class 'tuple'>
