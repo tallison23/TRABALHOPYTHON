#exemplo com while
count = 2
while count <= 6:
    print(count)
    count += 1

#range(0, 10, 1):
#range(inicio, parada, incremento)
#o python "igonora" o ultimo valor de intervalos
#O incremento pode ser negativo

#for normal
for n in range(3, 9):
    print(n+2)
    
for n in range(2, 15):
    print(n)

#for decrecente
for n in range(10, 0,-1):
    print(n)

#exemplo com break
#vai parar no 3 pois o break está antes do print
for n in range(1, 9):
    if n==5:
        break
    print(n)

#exemplo com continue
#vai pular o numero 4
for n in range(2, 20):
    if n==6:
        continue
    print(n)
