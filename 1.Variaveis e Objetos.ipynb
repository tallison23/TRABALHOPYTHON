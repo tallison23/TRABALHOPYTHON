#Cria variável do tipo inteiro
x = 2
print(x)
#Cria variável do tipo float
y = 6.26
print(y)
#Cria variável do tipo string
m = "Python"
m = 'Python'
print(m)
#Cria variável do tipo lógica
w = True  
y = False
print(y)
2
6.26
Python
False

#calculadora
x = 30
y = 40
z = 200
w = (x + y) * z / 200
print(w)
70.0

print("Vamos estudar")
vamos estudar 

#exibir texto no console
print("aula python")
print(x)
print("Texto e duas variáveis: ", x ,", ", z)

#verificar tipo
print(type(4.0))
print(type(m))
<class 'float'>
<class 'str'>

#entrada de dados
print("Informe o valor:160 ")
i = input()
#mostra tipo string
print(type(i))
<class'str'>

#entrada de valor com msg separada e junto
print("Informe o valor:50")
i = input()
# ou
i = input("Informe o valor:30 ")

#conversão de valores
#para inteiro
var = input("Informe o valor:888 ")
print(type(var))
var = int(var)
print(type(var))
#para float
var = input("Informe o valor:888 ")
print(type(var))
var = float(var)
print(type(var))

# Este texto é um comentário
X = 20  # a partir daqui é um comentário
