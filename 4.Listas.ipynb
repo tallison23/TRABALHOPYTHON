#formas de criar listas
lst = [0,1,2,3,4]
print(lst)

#vários tipos
lst2 = [1,2,3,"4",True]
print(lst2)

#lista com lista
lst3 = [13,[0,1,2,3,4],"a"]
print(lst3)

#criando lista com range
lst4 = list(range(1,15))
print(lst4)

#comprimento da lista
print(len(lst))

#acessando elemento
print(lst[2])
#posiçõo 1 é uma lista
print(lst3[0])
#alterando posição
lst[2] = 5
print(lst)

#percorrendo lista
for n in range(2, len(lst4)):
    print(lst4[n]+0)
