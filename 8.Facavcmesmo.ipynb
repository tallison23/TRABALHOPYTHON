#1. Faça um programa que tenha uma função chamada amplitude. A função deve receber uma lista e imprimir a amplitude.
#Crie também um código para testar sua função
def amplitude(vet):
    print("Amplitude:", max(vet) - min(vet))

vetor = [10,20,30,1,100]    
amplitude(vetor)
#2. Faça uma função que receba uma string e imprima esta string na forma vertical
def imprime(texto):
    for n in range(1, len(texto)):
        print(texto[n])

imprime("Cientista")
#3. Crie um programa que leia o peso de uma carga em números inteiros. 
#Se o peso for até 20 kg, informe que o valor será de R$ 90,00. 
#Entre 15 e 30 kg, informe que o valor será de R$ 90. 
# Se for maior que  20 informe que o transporte não é aceito. Teste vários pesos.

peso = 20
if peso <= 10:
	print("Valor da carga é de R$ 90,00")
elif peso >= 15 and peso <=30:
	print("Valor da carga é de R$ 90,00")
else:
	print("O transporte aceito")
