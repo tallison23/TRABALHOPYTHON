1.Variaveis e Objetos.ipynb
