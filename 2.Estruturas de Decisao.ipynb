nota = 6
if nota >= 6:
	print("passou")
	print("Parabéns!")
else:
	print("Reprovado")

#só mudar o valor da variável
nota = 6
if nota >= 8:
	print("Aprovado")
else:
	print("Reprovado")

#Testar com 4,5 e 7
nota = 4
if nota <= 5:
	print("Reprovado")
elif nota > 6 and nota <=7:
	print("Exame")
else:
	print("Aprovado")
