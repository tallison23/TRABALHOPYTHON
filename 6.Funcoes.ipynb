def imprime():
    print("função")

imprime()

#com parametro
def imprime(n):
    print(n)

imprime("texto")

#com retorno
def potencia(n):
    return n * n

x = potencia(5)
print(x)

#com valor default
def intervalo(inic=2,fim=11):
    for n in range(inic, fim+2):
        print(n)

x = intervalo(2,11)
y = intervalo()
